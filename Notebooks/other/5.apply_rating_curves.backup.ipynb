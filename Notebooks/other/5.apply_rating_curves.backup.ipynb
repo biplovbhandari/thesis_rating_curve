{
 "cells": [
  {
   "cell_type": "code",
   "execution_count": 10,
   "metadata": {},
   "outputs": [],
   "source": [
    "# common\n",
    "import os\n",
    "BASE_DIR = os.path.dirname(os.path.dirname(os.path.abspath('__file__')))\n",
    "\n",
    "from datetime import datetime, timedelta\n",
    "import json\n",
    "\n",
    "from io import BytesIO\n",
    "from pathlib import Path\n",
    "\n",
    "# network & protocol\n",
    "import requests\n",
    "from requests.exceptions import BaseHTTPError\n",
    "\n",
    "# computational\n",
    "import numpy as np\n",
    "import pandas as pd\n",
    "from sympy import var, Eq, solve"
   ]
  },
  {
   "cell_type": "code",
   "execution_count": 2,
   "metadata": {},
   "outputs": [],
   "source": [
    "start_date = '1990-01-01'\n",
    "end_date = '2019-12-31'\n",
    "full_dates = pd.date_range(datetime.strptime(start_date, '%Y-%m-%d'),\n",
    "                           datetime.strptime(end_date, '%Y-%m-%d'), freq='d')\\\n",
    "             .strftime('%Y-%m-%d').tolist()"
   ]
  },
  {
   "cell_type": "code",
   "execution_count": 3,
   "metadata": {},
   "outputs": [],
   "source": [
    "# stations with no discharge to calculate rating curves\n",
    "# Kg. Chhnang, Kompong Luong,\n",
    "stations = [\n",
    "    {\n",
    "        'name': 'Battambang',\n",
    "        'fitting': 'exp',\n",
    "    },\n",
    "    {\n",
    "        'name': 'Chaktomuk',\n",
    "        'fitting': 'poly_3',\n",
    "    },\n",
    "    {\n",
    "        'name': 'Kg._Thmar',\n",
    "        'fitting': 'poly_3',\n",
    "    },\n",
    "    {\n",
    "        'name': 'Koh_Khel',\n",
    "        'fitting': 'poly_3',\n",
    "    },\n",
    "    {\n",
    "        'name': 'Kompong_Cham',\n",
    "        'fitting': 'poly_3',\n",
    "    },\n",
    "    {\n",
    "        'name': 'Kompong_Chen',\n",
    "        'fitting': 'poly_3',\n",
    "    },\n",
    "    {\n",
    "        'name': 'Kompong_Kdei',\n",
    "        'fitting': 'poly_3',\n",
    "    },\n",
    "    {\n",
    "        'name': 'Kompong_Thom',\n",
    "        'fitting': 'exp',\n",
    "    },\n",
    "    {\n",
    "        'name': 'Kratie',\n",
    "        'fitting': 'poly_3',\n",
    "    },\n",
    "    {\n",
    "        'name': 'Lumphat',\n",
    "        'fitting': 'poly_3',\n",
    "    },\n",
    "    {\n",
    "        'name': 'Neak_Luong',\n",
    "        'fitting': 'poly_3',\n",
    "    },\n",
    "    {\n",
    "        'name': 'Phnom_Penh_Port',\n",
    "        'fitting': 'poly_3',\n",
    "    },\n",
    "    {\n",
    "        'name': 'Prek_Kdam',\n",
    "        'fitting': 'poly_3',\n",
    "    },\n",
    "    {\n",
    "        'name': 'Siempang',\n",
    "        'fitting': 'poly_3',\n",
    "    },\n",
    "    {\n",
    "        'name': 'Sisophon',\n",
    "        'fitting': 'exp',\n",
    "    },\n",
    "    {\n",
    "        'name': 'Stung_Treng',\n",
    "        'fitting': 'poly_3',\n",
    "    },\n",
    "    {\n",
    "        'name': 'Voeun_Sai',\n",
    "        'fitting': 'linear',\n",
    "    },\n",
    "]"
   ]
  },
  {
   "cell_type": "code",
   "execution_count": 6,
   "metadata": {},
   "outputs": [],
   "source": [
    "def open_load_json(file_path, eqn):\n",
    "    f = open(file_path)\n",
    "    parameters = json.load(f)\n",
    "    f.close()\n",
    "    if eqn == 'exp' or eqn == 'linear':\n",
    "        return parameters['m'], parameters['c']\n",
    "    elif eqn == 'poly_2':\n",
    "        return parameters['a'], parameters['b'], parameters['c']\n",
    "    elif eqn == 'poly_3':\n",
    "        return parameters['w'], parameters['x'], parameters['y'], parameters['c']\n",
    "    else:\n",
    "        raise ValueError('only allowed fittings are exponential (as exp), 2nd order polynomial (as poly_2), and 3rd order polynomial (as poly_3)')\n"
   ]
  },
  {
   "cell_type": "code",
   "execution_count": 12,
   "metadata": {},
   "outputs": [
    {
     "name": "stdout",
     "output_type": "stream",
     "text": [
      "-------------------------------------------\n",
      "station: Battambang\n",
      "exp\n",
      "Empty DataFrame\n",
      "Columns: [stage, manual, discharge]\n",
      "Index: []\n",
      "-------------------------------------------\n",
      "station: Chaktomuk\n"
     ]
    },
    {
     "ename": "SympifyError",
     "evalue": "SympifyError: datetime\n1990-03-23    5.16642095757842e-11*q**3 - 6.22430649563572e-...\n1990-03-24    5.16642095757842e-11*q**3 - 6.22430649563572e-...\n1990-03-25    5.16642095757842e-11*q**3 - 6.22430649563572e-...\n1990-03-26    5.16642095757842e-11*q**3 - 6.22430649563572e-...\n1990-03-27    5.16642095757842e-11*q**3 - 6.22430649563572e-...\n                                    ...                        \n2019-12-27    5.16642095757842e-11*q**3 - 6.22430649563572e-...\n2019-12-28    5.16642095757842e-11*q**3 - 6.22430649563572e-...\n2019-12-29    5.16642095757842e-11*q**3 - 6.22430649563572e-...\n2019-12-30    5.16642095757842e-11*q**3 - 6.22430649563572e-...\n2019-12-31    5.16642095757842e-11*q**3 - 6.22430649563572e-...\nName: stage, Length: 6754, dtype: object",
     "output_type": "error",
     "traceback": [
      "\u001b[0;31m---------------------------------------------------------------------------\u001b[0m",
      "\u001b[0;31mSympifyError\u001b[0m                              Traceback (most recent call last)",
      "\u001b[0;32m<ipython-input-12-459ed64defc9>\u001b[0m in \u001b[0;36m<module>\u001b[0;34m\u001b[0m\n\u001b[1;32m     63\u001b[0m \u001b[0;31m#             df_stage['discharge'] = np.multiply(w, np.power(stage, 3)) + np.multiply(x, np.power(stage, 2)) + np.multiply(y, stage) + c\u001b[0m\u001b[0;34m\u001b[0m\u001b[0;34m\u001b[0m\u001b[0;34m\u001b[0m\u001b[0m\n\u001b[1;32m     64\u001b[0m             \u001b[0mq\u001b[0m \u001b[0;34m=\u001b[0m \u001b[0mvar\u001b[0m\u001b[0;34m(\u001b[0m\u001b[0;34m'q'\u001b[0m\u001b[0;34m)\u001b[0m\u001b[0;34m\u001b[0m\u001b[0;34m\u001b[0m\u001b[0m\n\u001b[0;32m---> 65\u001b[0;31m             \u001b[0msolution\u001b[0m \u001b[0;34m=\u001b[0m \u001b[0msolve\u001b[0m\u001b[0;34m(\u001b[0m\u001b[0mEq\u001b[0m\u001b[0;34m(\u001b[0m\u001b[0mw\u001b[0m\u001b[0;34m*\u001b[0m\u001b[0mq\u001b[0m\u001b[0;34m**\u001b[0m\u001b[0;36m3\u001b[0m \u001b[0;34m+\u001b[0m \u001b[0mx\u001b[0m\u001b[0;34m*\u001b[0m\u001b[0mq\u001b[0m\u001b[0;34m**\u001b[0m\u001b[0;36m2\u001b[0m \u001b[0;34m+\u001b[0m \u001b[0my\u001b[0m\u001b[0;34m*\u001b[0m\u001b[0mq\u001b[0m \u001b[0;34m+\u001b[0m \u001b[0;34m(\u001b[0m\u001b[0mc\u001b[0m\u001b[0;34m-\u001b[0m\u001b[0mstage\u001b[0m\u001b[0;34m)\u001b[0m\u001b[0;34m,\u001b[0m \u001b[0;36m0\u001b[0m\u001b[0;34m)\u001b[0m\u001b[0;34m,\u001b[0m \u001b[0mq\u001b[0m\u001b[0;34m)\u001b[0m\u001b[0;34m\u001b[0m\u001b[0;34m\u001b[0m\u001b[0m\n\u001b[0m\u001b[1;32m     66\u001b[0m             \u001b[0mprint\u001b[0m\u001b[0;34m(\u001b[0m\u001b[0msolution\u001b[0m\u001b[0;34m)\u001b[0m\u001b[0;34m\u001b[0m\u001b[0;34m\u001b[0m\u001b[0m\n\u001b[1;32m     67\u001b[0m             \u001b[0mprint\u001b[0m\u001b[0;34m(\u001b[0m\u001b[0;34m'poly_3'\u001b[0m\u001b[0;34m)\u001b[0m\u001b[0;34m\u001b[0m\u001b[0;34m\u001b[0m\u001b[0m\n",
      "\u001b[0;32m~/miniconda3/envs/cbias/lib/python3.9/site-packages/sympy/core/relational.py\u001b[0m in \u001b[0;36m__new__\u001b[0;34m(cls, lhs, rhs, **options)\u001b[0m\n\u001b[1;32m    501\u001b[0m             \u001b[0mrhs\u001b[0m \u001b[0;34m=\u001b[0m \u001b[0;36m0\u001b[0m\u001b[0;34m\u001b[0m\u001b[0;34m\u001b[0m\u001b[0m\n\u001b[1;32m    502\u001b[0m         \u001b[0mevaluate\u001b[0m \u001b[0;34m=\u001b[0m \u001b[0moptions\u001b[0m\u001b[0;34m.\u001b[0m\u001b[0mpop\u001b[0m\u001b[0;34m(\u001b[0m\u001b[0;34m'evaluate'\u001b[0m\u001b[0;34m,\u001b[0m \u001b[0mglobal_parameters\u001b[0m\u001b[0;34m.\u001b[0m\u001b[0mevaluate\u001b[0m\u001b[0;34m)\u001b[0m\u001b[0;34m\u001b[0m\u001b[0;34m\u001b[0m\u001b[0m\n\u001b[0;32m--> 503\u001b[0;31m         \u001b[0mlhs\u001b[0m \u001b[0;34m=\u001b[0m \u001b[0m_sympify\u001b[0m\u001b[0;34m(\u001b[0m\u001b[0mlhs\u001b[0m\u001b[0;34m)\u001b[0m\u001b[0;34m\u001b[0m\u001b[0;34m\u001b[0m\u001b[0m\n\u001b[0m\u001b[1;32m    504\u001b[0m         \u001b[0mrhs\u001b[0m \u001b[0;34m=\u001b[0m \u001b[0m_sympify\u001b[0m\u001b[0;34m(\u001b[0m\u001b[0mrhs\u001b[0m\u001b[0;34m)\u001b[0m\u001b[0;34m\u001b[0m\u001b[0;34m\u001b[0m\u001b[0m\n\u001b[1;32m    505\u001b[0m         \u001b[0;32mif\u001b[0m \u001b[0mevaluate\u001b[0m\u001b[0;34m:\u001b[0m\u001b[0;34m\u001b[0m\u001b[0;34m\u001b[0m\u001b[0m\n",
      "\u001b[0;32m~/miniconda3/envs/cbias/lib/python3.9/site-packages/sympy/core/sympify.py\u001b[0m in \u001b[0;36m_sympify\u001b[0;34m(a)\u001b[0m\n\u001b[1;32m    510\u001b[0m \u001b[0;34m\u001b[0m\u001b[0m\n\u001b[1;32m    511\u001b[0m     \"\"\"\n\u001b[0;32m--> 512\u001b[0;31m     \u001b[0;32mreturn\u001b[0m \u001b[0msympify\u001b[0m\u001b[0;34m(\u001b[0m\u001b[0ma\u001b[0m\u001b[0;34m,\u001b[0m \u001b[0mstrict\u001b[0m\u001b[0;34m=\u001b[0m\u001b[0;32mTrue\u001b[0m\u001b[0;34m)\u001b[0m\u001b[0;34m\u001b[0m\u001b[0;34m\u001b[0m\u001b[0m\n\u001b[0m\u001b[1;32m    513\u001b[0m \u001b[0;34m\u001b[0m\u001b[0m\n\u001b[1;32m    514\u001b[0m \u001b[0;34m\u001b[0m\u001b[0m\n",
      "\u001b[0;32m~/miniconda3/envs/cbias/lib/python3.9/site-packages/sympy/core/sympify.py\u001b[0m in \u001b[0;36msympify\u001b[0;34m(a, locals, convert_xor, strict, rational, evaluate)\u001b[0m\n\u001b[1;32m    431\u001b[0m \u001b[0;34m\u001b[0m\u001b[0m\n\u001b[1;32m    432\u001b[0m     \u001b[0;32mif\u001b[0m \u001b[0mstrict\u001b[0m\u001b[0;34m:\u001b[0m\u001b[0;34m\u001b[0m\u001b[0;34m\u001b[0m\u001b[0m\n\u001b[0;32m--> 433\u001b[0;31m         \u001b[0;32mraise\u001b[0m \u001b[0mSympifyError\u001b[0m\u001b[0;34m(\u001b[0m\u001b[0ma\u001b[0m\u001b[0;34m)\u001b[0m\u001b[0;34m\u001b[0m\u001b[0;34m\u001b[0m\u001b[0m\n\u001b[0m\u001b[1;32m    434\u001b[0m \u001b[0;34m\u001b[0m\u001b[0m\n\u001b[1;32m    435\u001b[0m     \u001b[0;32mif\u001b[0m \u001b[0miterable\u001b[0m\u001b[0;34m(\u001b[0m\u001b[0ma\u001b[0m\u001b[0;34m)\u001b[0m\u001b[0;34m:\u001b[0m\u001b[0;34m\u001b[0m\u001b[0;34m\u001b[0m\u001b[0m\n",
      "\u001b[0;31mSympifyError\u001b[0m: SympifyError: datetime\n1990-03-23    5.16642095757842e-11*q**3 - 6.22430649563572e-...\n1990-03-24    5.16642095757842e-11*q**3 - 6.22430649563572e-...\n1990-03-25    5.16642095757842e-11*q**3 - 6.22430649563572e-...\n1990-03-26    5.16642095757842e-11*q**3 - 6.22430649563572e-...\n1990-03-27    5.16642095757842e-11*q**3 - 6.22430649563572e-...\n                                    ...                        \n2019-12-27    5.16642095757842e-11*q**3 - 6.22430649563572e-...\n2019-12-28    5.16642095757842e-11*q**3 - 6.22430649563572e-...\n2019-12-29    5.16642095757842e-11*q**3 - 6.22430649563572e-...\n2019-12-30    5.16642095757842e-11*q**3 - 6.22430649563572e-...\n2019-12-31    5.16642095757842e-11*q**3 - 6.22430649563572e-...\nName: stage, Length: 6754, dtype: object"
     ]
    }
   ],
   "source": [
    "Path(f'{BASE_DIR}/mrc_observations').mkdir(parents=True, exist_ok=True)\n",
    "\n",
    "no_fit_stations = ['Phnom_Penh_Port', 'Prek_Kdam']\n",
    "\n",
    "for _station in stations:\n",
    "    station = _station['name']\n",
    "    if station not in no_fit_stations:\n",
    "        print('-------------------------------------------')\n",
    "        print(f'station: {station}')\n",
    "\n",
    "        df_discharge = pd.read_csv(f'{BASE_DIR}/pre_rating_curves/{station}/discharge.csv', index_col='datetime')\n",
    "        df_discharge.index = pd.to_datetime(df_discharge.index)\n",
    "\n",
    "        df_stage = pd.read_csv(f'{BASE_DIR}/pre_rating_curves/{station}/stage.csv', index_col='datetime')\n",
    "        df_stage.index = pd.to_datetime(df_stage.index)\n",
    "\n",
    "        discharge_mask = (df_discharge.index >= start_date) & (df_discharge.index <= end_date)\n",
    "        stage_mask = (df_stage.index >= start_date) & (df_stage.index <= end_date)\n",
    "\n",
    "        df_discharge = df_discharge.loc[discharge_mask]\n",
    "        df_stage = df_stage.loc[stage_mask]\n",
    "\n",
    "        if len(df_discharge) > 0:\n",
    "            dates = df_discharge.index.tolist()\n",
    "            dates = [date.strftime('%Y-%m-%d') for date in dates]\n",
    "        else:\n",
    "            dates = []\n",
    "\n",
    "        remaining_dates = [datetime.strptime(_date, '%Y-%m-%d').date() for _date in full_dates if _date not in dates]\n",
    "        df_stage = df_stage.loc[(df_stage.index.isin(remaining_dates)), :]\n",
    "\n",
    "        fit_eqn = _station['fitting']\n",
    "\n",
    "        stage = df_stage.stage\n",
    "\n",
    "        if fit_eqn == 'linear':\n",
    "            m, c = open_load_json(f'{BASE_DIR}/rating_curves/{station}_parameters.json', fit_eqn)\n",
    "            # exponential: Q = (stage - c) / m\n",
    "            df_stage['discharge'] = (stage - c) / m\n",
    "#             df_stage['discharge'] =  np.multiply(np.power(10, c), np.power(stage, m))\n",
    "            print('linear')\n",
    "            print(df_stage.loc[df_stage.discharge < 0])\n",
    "        elif fit_eqn == 'exp':\n",
    "            m, c = open_load_json(f'{BASE_DIR}/rating_curves/{station}_parameters.json', fit_eqn)\n",
    "            # exponential: Q = 10 ^ ((log(stage) - c) / m)\n",
    "            df_stage['discharge'] =  (10 ** (np.log10(df_stage.stage) - c) / m)\n",
    "            print('exp')\n",
    "            print(df_stage.loc[df_stage.discharge < 0])\n",
    "        elif fit_eqn == 'poly_2':\n",
    "            a, b, c = open_load_json(f'{BASE_DIR}/rating_curves/{station}_parameters.json', fit_eqn)\n",
    "            # D = a*Q^2 + b*Q + c\n",
    "            # yields Q^2 + (b/a) * Q + (c - D / a) = 0\n",
    "            # of the form ax^2 + bx + c = 0 has solution\n",
    "            # x = (-b (+-) sqrt(b^2 - 4ac)) / 2a\n",
    "            coefficients = [1, (b/a), (c - stage)/a]\n",
    "            solution = np.roots(coefficients)\n",
    "            print(solution)\n",
    "            print('poly_2')\n",
    "#             print(df_stage.loc[df_stage.discharge < 0])\n",
    "        elif fit_eqn == 'poly_3':\n",
    "            w, x, y, c = open_load_json(f'{BASE_DIR}/rating_curves/{station}_parameters.json', fit_eqn)\n",
    "            # Q = w*d^3 + x*d^2 + y*d + c\n",
    "#             df_stage['discharge'] = np.multiply(w, np.power(stage, 3)) + np.multiply(x, np.power(stage, 2)) + np.multiply(y, stage) + c\n",
    "            q = var('q')\n",
    "            solution = solve(Eq(w*q**3 + x*q**2 + y*q + (c-stage), 0), q)\n",
    "            print(solution)\n",
    "            print('poly_3')\n",
    "#             print(df_stage.loc[df_stage.discharge < 0])\n",
    "        else:\n",
    "            raise ValueError('only allowed fittings are exponential (as exp), 2nd order polynomial (as poly_2), and 3rd order polynomial (as poly_3)')\n",
    "\n",
    "#         df_stage = df_stage.drop(['stage', 'manual'], axis = 1)\n",
    "#         df_discharge = df_discharge.drop(['calculated'], axis=1)\n",
    "        \n",
    "\n",
    "#         df = pd.concat([df_stage, df_discharge])\n",
    "#         df = df.sort_index()\n",
    "#         df.to_csv(f'{BASE_DIR}/mrc_observations/{station}.csv', encoding='utf-8', index=True)"
   ]
  },
  {
   "cell_type": "code",
   "execution_count": 25,
   "metadata": {},
   "outputs": [
    {
     "data": {
      "text/plain": [
       "10957"
      ]
     },
     "execution_count": 25,
     "metadata": {},
     "output_type": "execute_result"
    }
   ],
   "source": [
    "len(full_dates)"
   ]
  },
  {
   "cell_type": "code",
   "execution_count": 26,
   "metadata": {},
   "outputs": [
    {
     "data": {
      "text/plain": [
       "0.19147576891484896"
      ]
     },
     "execution_count": 26,
     "metadata": {},
     "output_type": "execute_result"
    }
   ],
   "source": [
    "2098/len(full_dates)"
   ]
  },
  {
   "cell_type": "code",
   "execution_count": null,
   "metadata": {},
   "outputs": [],
   "source": []
  }
 ],
 "metadata": {
  "kernelspec": {
   "display_name": "Python 3",
   "language": "python",
   "name": "python3"
  },
  "language_info": {
   "codemirror_mode": {
    "name": "ipython",
    "version": 3
   },
   "file_extension": ".py",
   "mimetype": "text/x-python",
   "name": "python",
   "nbconvert_exporter": "python",
   "pygments_lexer": "ipython3",
   "version": "3.9.4"
  }
 },
 "nbformat": 4,
 "nbformat_minor": 4
}
